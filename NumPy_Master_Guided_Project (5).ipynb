{
  "cells": [
    {
      "cell_type": "markdown",
      "id": "20dc80e4",
      "metadata": {
        "id": "20dc80e4"
      },
      "source": [
        "# 🧑‍💻 NumPy Complete Guided Project\n",
        "**Instructor / Student Colab Notebook** – covers *all* key concepts from `Numpy‑1` to `Numpy‑5`.\n",
        "\n",
        "*Generated: 08 Aug 2025*"
      ]
    },
    {
      "cell_type": "markdown",
      "id": "e8b8b6cf",
      "metadata": {
        "id": "e8b8b6cf"
      },
      "source": [
        "\n",
        "**Table of Contents**\n",
        "\n",
        "1. [Setup](#setup)  \n",
        "2. [Array Creation & Dtypes](#creation)  \n",
        "3. [Array Attributes & Inspection](#attributes)  \n",
        "4. [Indexing, Slicing, Fancy Indexing](#indexing)  \n",
        "5. [Reshaping, Transpose & Copies vs Views](#reshape)  \n",
        "6. [Joining, Splitting, Set & Sorting Ops](#join)  \n",
        "7. [Arithmetic Ops, Universal Functions](#arithmetic)  \n",
        "8. [Broadcasting (Rules + Examples)](#broadcast)  \n",
        "9. [Statistics & Aggregations](#stats)  \n",
        "10. [Random Numbers & Reproducibility](#random)  \n",
        "11. [Structured / Recarrays](#structured)  \n",
        "12. [Linear Algebra Essentials](#linalg)  \n",
        "13. [File I/O (`npy`, `npz`, `txt`)](#io)  \n",
        "14. [Datetime64 & Timedelta64](#datetime)  \n",
        "15. [Masked Arrays & NaNs](#mask)  \n",
        "16. [Mini‑Project — Fitness Data Analysis](#project)  \n",
        "17. [Conclusion & Next Steps](#conclusion)  \n"
      ]
    },
    {
      "cell_type": "markdown",
      "id": "9170f3ee",
      "metadata": {
        "id": "9170f3ee"
      },
      "source": [
        "## <a name='setup'></a>1️⃣ Setup"
      ]
    },
    {
      "cell_type": "code",
      "source": [
        "import numpy as np, math, os, pathlib, types, textwrap, random\n",
        "print('NumPy version:', np.__version__)"
      ],
      "metadata": {
        "id": "6Kv6WCSc1q8V"
      },
      "id": "6Kv6WCSc1q8V",
      "execution_count": null,
      "outputs": []
    },
    {
      "cell_type": "code",
      "execution_count": null,
      "id": "4f54988f",
      "metadata": {
        "id": "4f54988f"
      },
      "outputs": [],
      "source": [
        "import numpy as np, math, os, pathlib, types, textwrap, random\n",
        "print('NumPy version:', np.__version__)"
      ]
    },
    {
      "cell_type": "markdown",
      "id": "c7f7b2c8",
      "metadata": {
        "id": "c7f7b2c8"
      },
      "source": [
        "## <a name='creation'></a>2️⃣ Array Creation & Dtypes"
      ]
    },
    {
      "cell_type": "markdown",
      "id": "47405152",
      "metadata": {
        "id": "47405152"
      },
      "source": [
        "Key functions: `np.array`, `np.arange`, `np.linspace`, `zeros`, `ones`, `full`, `eye`, `identity`, `diag`, `empty`"
      ]
    },
    {
      "cell_type": "code",
      "execution_count": null,
      "id": "801e99ad",
      "metadata": {
        "id": "801e99ad"
      },
      "outputs": [],
      "source": [
        "# EXAMPLE\n",
        "arr1 = np.array([1, 2, 3], dtype=np.int32)\n",
        "arr2 = np.linspace(0, 1, 6)\n",
        "arr3 = np.full((2,3), 7.5)\n",
        "print(arr1, arr2, arr3, sep=\"\\n\")\n",
        "print(\"dtypes:\", arr1.dtype, arr2.dtype)\n"
      ]
    },
    {
      "cell_type": "code",
      "source": [
        "import numpy as np\n",
        "arr1=np.random.randint(0,2,size=(10,10))\n",
        "print(arr1)"
      ],
      "metadata": {
        "colab": {
          "base_uri": "https://localhost:8080/"
        },
        "id": "0GTZvTQm27D0",
        "outputId": "6414ee37-8300-4348-f6fc-3a7e8c6c4376"
      },
      "id": "0GTZvTQm27D0",
      "execution_count": null,
      "outputs": [
        {
          "output_type": "stream",
          "name": "stdout",
          "text": [
            "[[0 0 0 0 0 1 0 1 1 1]\n",
            " [0 0 0 1 1 0 1 1 1 0]\n",
            " [1 1 0 1 0 1 0 0 1 0]\n",
            " [0 1 1 1 1 1 0 1 0 0]\n",
            " [0 1 0 1 0 1 1 0 1 1]\n",
            " [1 1 0 0 1 0 1 1 0 1]\n",
            " [0 1 1 0 0 1 1 1 1 1]\n",
            " [1 1 0 0 1 0 0 1 0 1]\n",
            " [1 1 0 0 0 1 0 1 1 1]\n",
            " [1 0 1 1 0 1 1 1 0 1]]\n"
          ]
        }
      ]
    },
    {
      "cell_type": "code",
      "execution_count": null,
      "id": "dc63d076",
      "metadata": {
        "colab": {
          "base_uri": "https://localhost:8080/"
        },
        "id": "dc63d076",
        "outputId": "8aa1d85d-aa7b-4859-8c87-c76e255b225c"
      },
      "outputs": [
        {
          "output_type": "stream",
          "name": "stdout",
          "text": [
            "[[0 1 0 1 0 1 0 1 0 1]\n",
            " [1 0 1 0 1 0 1 0 1 0]\n",
            " [0 1 0 1 0 1 0 1 0 1]\n",
            " [1 0 1 0 1 0 1 0 1 0]\n",
            " [0 1 0 1 0 1 0 1 0 1]\n",
            " [1 0 1 0 1 0 1 0 1 0]\n",
            " [0 1 0 1 0 1 0 1 0 1]\n",
            " [1 0 1 0 1 0 1 0 1 0]\n",
            " [0 1 0 1 0 1 0 1 0 1]\n",
            " [1 0 1 0 1 0 1 0 1 0]]\n"
          ]
        }
      ],
      "source": [
        "import numpy as np\n",
        "\n",
        "\n",
        "chess=(np.arange(10)[:,np.newaxis]+np.arange(10))%2\n",
        "\n",
        "print(chess)"
      ]
    },
    {
      "cell_type": "markdown",
      "id": "925be762",
      "metadata": {
        "id": "925be762"
      },
      "source": [
        "## <a name='attributes'></a>3️⃣ Array Attributes & Inspection"
      ]
    },
    {
      "cell_type": "markdown",
      "id": "f103bb36",
      "metadata": {
        "id": "f103bb36"
      },
      "source": [
        "`shape`, `ndim`, `size`, `dtype`, `itemsize`, `nbytes`"
      ]
    },
    {
      "cell_type": "code",
      "execution_count": null,
      "id": "ad3eeda1",
      "metadata": {
        "id": "ad3eeda1"
      },
      "outputs": [],
      "source": [
        "M = np.arange(12).reshape(3,4)\n",
        "print('shape', M.shape, 'ndim', M.ndim, 'size', M.size, 'itemsize', M.itemsize, 'total bytes', M.nbytes)\n"
      ]
    },
    {
      "cell_type": "code",
      "execution_count": null,
      "id": "5875fefe",
      "metadata": {
        "id": "5875fefe"
      },
      "outputs": [],
      "source": [
        "# 🖊️ TODO: check memory footprint of a 1000×1000 float64 array\n"
      ]
    },
    {
      "cell_type": "code",
      "source": [
        "import numpy as np\n",
        "arr1=np.zeros((1000, 1000), dtype=np.float64)\n",
        "mb =arr1.nbytes\n",
        "mmb = mb / (1024 * 1024)\n",
        "print(f\"Memory footprint of a 1000x1000 float64 array: {mmb:.2f} MB\")"
      ],
      "metadata": {
        "colab": {
          "base_uri": "https://localhost:8080/"
        },
        "id": "u_e_F2az7M6C",
        "outputId": "9c0f9277-ddce-41cc-a68b-acc0e5fd08be"
      },
      "id": "u_e_F2az7M6C",
      "execution_count": null,
      "outputs": [
        {
          "output_type": "stream",
          "name": "stdout",
          "text": [
            "Memory footprint of a 1000x1000 float64 array: 7.63 MB\n"
          ]
        }
      ]
    },
    {
      "cell_type": "markdown",
      "id": "bd895660",
      "metadata": {
        "id": "bd895660"
      },
      "source": [
        "## <a name='indexing'></a>4️⃣ Indexing, Slicing & Fancy Indexing"
      ]
    },
    {
      "cell_type": "code",
      "execution_count": null,
      "id": "5dc7d4c1",
      "metadata": {
        "colab": {
          "base_uri": "https://localhost:8080/"
        },
        "id": "5dc7d4c1",
        "outputId": "a60127a3-7b46-4014-e7af-9d51f5666616"
      },
      "outputs": [
        {
          "output_type": "stream",
          "name": "stdout",
          "text": [
            "[ 1  6 11 16 21]\n",
            "[[ 1  3  5]\n",
            " [11 13 15]\n",
            " [21 23 25]]\n",
            "multiples of 3: [ 3  6  9 12 15 18 21 24]\n"
          ]
        }
      ],
      "source": [
        "a = np.arange(1,26).reshape(5,5)\n",
        "print(a[:, 0])     # first column\n",
        "print(a[::2, ::2]) # every 2nd row/col\n",
        "mask = (a % 3 == 0)\n",
        "print('multiples of 3:', a[mask])\n"
      ]
    },
    {
      "cell_type": "code",
      "execution_count": null,
      "id": "9c4bd5f4",
      "metadata": {
        "id": "9c4bd5f4"
      },
      "outputs": [],
      "source": [
        "# 🖊️ TODO: use fancy indexing to swap first and last rows of `a`\n"
      ]
    },
    {
      "cell_type": "code",
      "source": [
        "n=a.shape[0]\n",
        "idx=[n-1]+list(range(1, n - 1))+[0]\n",
        "swap=a[idx]\n",
        "print(swap)"
      ],
      "metadata": {
        "colab": {
          "base_uri": "https://localhost:8080/"
        },
        "id": "TDEdZeex8fIc",
        "outputId": "5e6654d2-fefa-46d5-b3f5-337a88824e8b"
      },
      "id": "TDEdZeex8fIc",
      "execution_count": null,
      "outputs": [
        {
          "output_type": "stream",
          "name": "stdout",
          "text": [
            "[[21 22 23 24 25]\n",
            " [ 6  7  8  9 10]\n",
            " [11 12 13 14 15]\n",
            " [16 17 18 19 20]\n",
            " [ 1  2  3  4  5]]\n"
          ]
        }
      ]
    },
    {
      "cell_type": "markdown",
      "id": "8f4de1d5",
      "metadata": {
        "id": "8f4de1d5"
      },
      "source": [
        "## <a name='reshape'></a>5️⃣ Reshaping, Transpose & Copies vs Views"
      ]
    },
    {
      "cell_type": "code",
      "execution_count": null,
      "id": "053b4ff4",
      "metadata": {
        "id": "053b4ff4"
      },
      "outputs": [],
      "source": [
        "b = np.arange(8)\n",
        "B = b.reshape(2,4)\n",
        "B[0,0] = 99\n",
        "print('b is modified:', b)\n",
        "C = b.reshape(2,4).copy()\n",
        "C[0,0] = -1\n",
        "print('b unchanged with copy:', b)\n"
      ]
    },
    {
      "cell_type": "code",
      "execution_count": null,
      "id": "a3e599bd",
      "metadata": {
        "id": "a3e599bd"
      },
      "outputs": [],
      "source": [
        "# 🖊️ TODO: Flatten a 3‑D array into 1‑D using both `ravel` and `flatten`; observe copy vs view.\n"
      ]
    },
    {
      "cell_type": "code",
      "source": [
        "import numpy as np\n",
        "\n",
        "arr_3d=np.arange(24).reshape(2, 3, 4)\n",
        "print(\"Original 3D array:\\n\", arr_3d)\n",
        "arr_ravel=arr_3d.ravel()\n",
        "print(\"\\nFlattened using ravel():\\n\", arr_ravel)\n",
        "arr_ravel[0]=999\n",
        "print(\"\\nModified ravelled array:\\n\", arr_ravel)\n",
        "print(\"Original array after modifying ravelled array:\\n\", arr_3d)\n",
        "arr_3d = np.arange(24).reshape(2, 3, 4)\n",
        "arr_flatten = arr_3d.flatten()\n",
        "print(\"\\nFlattened using flatten():\\n\", arr_flatten)\n",
        "arr_flatten[0] = 888\n",
        "print(\"\\nModified flattened array:\\n\", arr_flatten)\n",
        "print(\"Original array after modifying flattened array:\\n\", arr_3d)"
      ],
      "metadata": {
        "colab": {
          "base_uri": "https://localhost:8080/"
        },
        "id": "JaFNn8sb-PDn",
        "outputId": "a43cf1e9-94c9-47af-840a-bcebd55be3b6"
      },
      "id": "JaFNn8sb-PDn",
      "execution_count": null,
      "outputs": [
        {
          "output_type": "stream",
          "name": "stdout",
          "text": [
            "Original 3D array:\n",
            " [[[ 0  1  2  3]\n",
            "  [ 4  5  6  7]\n",
            "  [ 8  9 10 11]]\n",
            "\n",
            " [[12 13 14 15]\n",
            "  [16 17 18 19]\n",
            "  [20 21 22 23]]]\n",
            "\n",
            "Flattened using ravel():\n",
            " [ 0  1  2  3  4  5  6  7  8  9 10 11 12 13 14 15 16 17 18 19 20 21 22 23]\n",
            "\n",
            "Modified ravelled array:\n",
            " [999   1   2   3   4   5   6   7   8   9  10  11  12  13  14  15  16  17\n",
            "  18  19  20  21  22  23]\n",
            "Original array after modifying ravelled array:\n",
            " [[[999   1   2   3]\n",
            "  [  4   5   6   7]\n",
            "  [  8   9  10  11]]\n",
            "\n",
            " [[ 12  13  14  15]\n",
            "  [ 16  17  18  19]\n",
            "  [ 20  21  22  23]]]\n",
            "\n",
            "Flattened using flatten():\n",
            " [ 0  1  2  3  4  5  6  7  8  9 10 11 12 13 14 15 16 17 18 19 20 21 22 23]\n",
            "\n",
            "Modified flattened array:\n",
            " [888   1   2   3   4   5   6   7   8   9  10  11  12  13  14  15  16  17\n",
            "  18  19  20  21  22  23]\n",
            "Original array after modifying flattened array:\n",
            " [[[ 0  1  2  3]\n",
            "  [ 4  5  6  7]\n",
            "  [ 8  9 10 11]]\n",
            "\n",
            " [[12 13 14 15]\n",
            "  [16 17 18 19]\n",
            "  [20 21 22 23]]]\n"
          ]
        }
      ]
    },
    {
      "cell_type": "markdown",
      "id": "2390c4ae",
      "metadata": {
        "id": "2390c4ae"
      },
      "source": [
        "## <a name='join'></a>6️⃣ Joining, Splitting, Set & Sorting Ops"
      ]
    },
    {
      "cell_type": "code",
      "execution_count": null,
      "id": "a53f640a",
      "metadata": {
        "id": "a53f640a"
      },
      "outputs": [],
      "source": [
        "x = np.array([1,3,5]); y = np.array([2,4,6])\n",
        "xy = np.concatenate([x,y])\n",
        "print('union', np.union1d(x,y))\n",
        "print('intersect', np.intersect1d(xy,[1,2,10]))\n",
        "print('sorted descending', np.sort(xy)[::-1])\n"
      ]
    },
    {
      "cell_type": "code",
      "execution_count": null,
      "id": "4231e729",
      "metadata": {
        "id": "4231e729"
      },
      "outputs": [],
      "source": [
        "# 🖊️ TODO: split `xy` back into two equal halves using `np.array_split`\n"
      ]
    },
    {
      "cell_type": "code",
      "source": [
        "x, y = np.array_split(xy, 2)\n",
        "print(\"Original array 'xy':\", xy)\n",
        "print(\"First half:\", x)\n",
        "print(\"Second half:\", y)"
      ],
      "metadata": {
        "id": "urxOk2bN_BW5"
      },
      "id": "urxOk2bN_BW5",
      "execution_count": null,
      "outputs": []
    },
    {
      "cell_type": "markdown",
      "id": "e6ebeb68",
      "metadata": {
        "id": "e6ebeb68"
      },
      "source": [
        "## <a name='arithmetic'></a>7️⃣ Arithmetic Ops & Universal Functions"
      ]
    },
    {
      "cell_type": "code",
      "execution_count": null,
      "id": "04a6eda9",
      "metadata": {
        "id": "04a6eda9"
      },
      "outputs": [],
      "source": [
        "v = np.arange(5)\n",
        "print('exp', np.exp(v))\n",
        "print('sin', np.sin(v))\n",
        "print('vectorised addition', v + 10)\n"
      ]
    },
    {
      "cell_type": "code",
      "execution_count": null,
      "id": "c011f422",
      "metadata": {
        "id": "c011f422"
      },
      "outputs": [],
      "source": [
        "# 🖊️ TODO: given degrees [0,30,45,60,90], compute radians and sin values.\n"
      ]
    },
    {
      "cell_type": "code",
      "source": [
        "import numpy as np\n",
        "deg=np.array([0, 30, 45, 60, 90])\n",
        "rad=np.deg2rad(deg)\n",
        "sinv=np.sin(rad)\n",
        "print(\"Degrees:\",deg)\n",
        "print(\"Radians:\",rad)\n",
        "print(\"Sine values:\",sinv)"
      ],
      "metadata": {
        "colab": {
          "base_uri": "https://localhost:8080/"
        },
        "id": "qCpk4_OT_cKz",
        "outputId": "50d02f18-8fb4-4868-f7e8-e1b5f1562afe"
      },
      "id": "qCpk4_OT_cKz",
      "execution_count": null,
      "outputs": [
        {
          "output_type": "stream",
          "name": "stdout",
          "text": [
            "Degrees: [ 0 30 45 60 90]\n",
            "Radians: [0.         0.52359878 0.78539816 1.04719755 1.57079633]\n",
            "Sine values: [0.         0.5        0.70710678 0.8660254  1.        ]\n"
          ]
        }
      ]
    },
    {
      "cell_type": "markdown",
      "id": "7c9a5d70",
      "metadata": {
        "id": "7c9a5d70"
      },
      "source": [
        "## <a name='broadcast'></a>8️⃣ Broadcasting Rules"
      ]
    },
    {
      "cell_type": "markdown",
      "id": "aba2764d",
      "metadata": {
        "id": "aba2764d"
      },
      "source": [
        "Rules: compare dimensions from right → left; stretch size 1 dims; mismatch error."
      ]
    },
    {
      "cell_type": "code",
      "execution_count": null,
      "id": "6313899c",
      "metadata": {
        "id": "6313899c"
      },
      "outputs": [],
      "source": [
        "row = np.arange(5)\n",
        "col = np.arange(3).reshape(3,1)\n",
        "matrix = row + col  # broadcast to 3×5\n",
        "print(matrix)\n"
      ]
    },
    {
      "cell_type": "code",
      "execution_count": null,
      "id": "de718119",
      "metadata": {
        "id": "de718119"
      },
      "outputs": [],
      "source": [
        "# 🖊️ TODO: use broadcasting to create a 10×10 multiplication table.\n"
      ]
    },
    {
      "cell_type": "code",
      "source": [
        "import numpy as np\n",
        "\n",
        "r=np.arange(1,11).reshape(-1,1)\n",
        "c=np.arange(1,11)\n",
        "m=r*c\n",
        "print(m)"
      ],
      "metadata": {
        "id": "KxKFTL3nAnSW"
      },
      "id": "KxKFTL3nAnSW",
      "execution_count": null,
      "outputs": []
    },
    {
      "cell_type": "markdown",
      "id": "38a618c8",
      "metadata": {
        "id": "38a618c8"
      },
      "source": [
        "## <a name='stats'></a>9️⃣ Statistics & Aggregations"
      ]
    },
    {
      "cell_type": "code",
      "execution_count": null,
      "id": "af9ac70d",
      "metadata": {
        "colab": {
          "base_uri": "https://localhost:8080/"
        },
        "id": "af9ac70d",
        "outputId": "cf04f682-c9d6-4bfa-a440-d437090e8666"
      },
      "outputs": [
        {
          "output_type": "stream",
          "name": "stdout",
          "text": [
            "data\n",
            " [[85 64 51 27]\n",
            " [31  5  8  2]\n",
            " [18 81 65 91]\n",
            " [50 61 97 73]\n",
            " [63 54 56 93]]\n",
            "row sums [227  46 255 281 266]\n",
            "col means [49.4 53.  55.4 57.2]\n"
          ]
        }
      ],
      "source": [
        "data = np.random.default_rng(0).integers(1, 100, size=(5,4))\n",
        "print('data\\n', data)\n",
        "print('row sums', data.sum(axis=1))\n",
        "print('col means', data.mean(axis=0))\n"
      ]
    },
    {
      "cell_type": "code",
      "execution_count": null,
      "id": "63adf5be",
      "metadata": {
        "id": "63adf5be"
      },
      "outputs": [],
      "source": [
        "# 🖊️ TODO: compute `np.percentile` (25th, 50th, 75th) of flattened `data`.\n"
      ]
    },
    {
      "cell_type": "code",
      "source": [
        "flat = data.flatten()\n",
        "p = np.percentile(flat, [25, 50, 75])\n",
        "print(\"Flattened data:\",flat)\n",
        "print(\"25th, 50th, and 75th percentiles:\",p)"
      ],
      "metadata": {
        "colab": {
          "base_uri": "https://localhost:8080/"
        },
        "id": "jCNHGKteBA6I",
        "outputId": "a6b94258-57f1-4e52-f8ff-07c2b18324c7"
      },
      "id": "jCNHGKteBA6I",
      "execution_count": null,
      "outputs": [
        {
          "output_type": "stream",
          "name": "stdout",
          "text": [
            "Flattened data: [85 64 51 27 31  5  8  2 18 81 65 91 50 61 97 73 63 54 56 93]\n",
            "25th, 50th, and 75th percentiles: [30.  58.5 75. ]\n"
          ]
        }
      ]
    },
    {
      "cell_type": "markdown",
      "id": "8f3c00d7",
      "metadata": {
        "id": "8f3c00d7"
      },
      "source": [
        "## <a name='random'></a>🔟 Random Numbers & Reproducibility"
      ]
    },
    {
      "cell_type": "code",
      "execution_count": null,
      "id": "98016975",
      "metadata": {
        "id": "98016975"
      },
      "outputs": [],
      "source": [
        "rng = np.random.default_rng(42)\n",
        "rand_floats = rng.random(5)\n",
        "rand_ints = rng.integers(low=10, high=50, size=5)\n",
        "print(rand_floats, rand_ints)\n",
        "rng2 = np.random.default_rng(42)\n",
        "assert np.allclose(rand_floats, rng2.random(5))\n"
      ]
    },
    {
      "cell_type": "code",
      "execution_count": null,
      "id": "35dbadba",
      "metadata": {
        "id": "35dbadba"
      },
      "outputs": [],
      "source": [
        "# 🖊️ TODO: simulate rolling a fair six‑sided die 100 times; estimate proportion of 6s.\n"
      ]
    },
    {
      "cell_type": "code",
      "source": [
        "import numpy as np\n",
        "\n",
        "rolls = np.random.randint(1, 7, size=100)\n",
        "sixes = np.sum(rolls == 6)\n",
        "prop = sixes / 100\n",
        "print(\"Proportion of 6s:\", prop)"
      ],
      "metadata": {
        "id": "F6y0AyVVIlgk"
      },
      "id": "F6y0AyVVIlgk",
      "execution_count": null,
      "outputs": []
    },
    {
      "cell_type": "markdown",
      "id": "6cdb04b2",
      "metadata": {
        "id": "6cdb04b2"
      },
      "source": [
        "## <a name='structured'></a>1️⃣1️⃣ Structured / Record Arrays"
      ]
    },
    {
      "cell_type": "code",
      "execution_count": null,
      "id": "d8f64e42",
      "metadata": {
        "id": "d8f64e42"
      },
      "outputs": [],
      "source": [
        "people = np.array([('Alice', 25, 55.0), ('Bob', 30, 85.5)],\n",
        "                   dtype=[('name','U10'), ('age','i4'), ('weight','f4')])\n",
        "print(people['name'], people['age'].mean())\n"
      ]
    },
    {
      "cell_type": "code",
      "execution_count": null,
      "id": "7a65fe1d",
      "metadata": {
        "id": "7a65fe1d"
      },
      "outputs": [],
      "source": [
        "# 🖊️ TODO: add a new field 'height' to the structured array using `np.lib.recfunctions.append_fields` (hint: pip install?).\n"
      ]
    },
    {
      "cell_type": "code",
      "source": [
        "import numpy as np\n",
        "import numpy.lib.recfunctions as rfn\n",
        "\n",
        "h = np.array([165.0, 180.0], dtype='f4')\n",
        "p_h = rfn.append_fields(people, 'height', h, usemask=False)\n",
        "print(p_h)"
      ],
      "metadata": {
        "id": "cHt6nGhGKB2n"
      },
      "id": "cHt6nGhGKB2n",
      "execution_count": null,
      "outputs": []
    },
    {
      "cell_type": "markdown",
      "id": "df5b617b",
      "metadata": {
        "id": "df5b617b"
      },
      "source": [
        "## <a name='linalg'></a>1️⃣2️⃣ Linear Algebra Essentials"
      ]
    },
    {
      "cell_type": "code",
      "execution_count": null,
      "id": "3f7fb475",
      "metadata": {
        "id": "3f7fb475",
        "colab": {
          "base_uri": "https://localhost:8080/"
        },
        "outputId": "132cc09b-d4f9-4eb7-c446-59b6e1a113c8"
      },
      "outputs": [
        {
          "output_type": "stream",
          "name": "stdout",
          "text": [
            "A·x ≈ b? True\n"
          ]
        }
      ],
      "source": [
        "import numpy as np\n",
        "A = np.random.random((3,3))\n",
        "b = np.random.random(3)\n",
        "x = np.linalg.solve(A, b)\n",
        "print('A·x ≈ b?', np.allclose(A.dot(x), b))"
      ]
    },
    {
      "cell_type": "code",
      "execution_count": null,
      "id": "a8fb02d7",
      "metadata": {
        "id": "a8fb02d7"
      },
      "outputs": [],
      "source": [
        "# 🖊️ TODO: compute eigenvalues of `A` using `np.linalg.eig`.\n"
      ]
    },
    {
      "cell_type": "code",
      "source": [
        "w, v = np.linalg.eig(A)\n",
        "print(\"Eigenvalues:\", w)"
      ],
      "metadata": {
        "colab": {
          "base_uri": "https://localhost:8080/"
        },
        "id": "6mH7lABoGNgu",
        "outputId": "86fbb90e-11ad-4b41-bc8d-a5a87282d2cb"
      },
      "id": "6mH7lABoGNgu",
      "execution_count": null,
      "outputs": [
        {
          "output_type": "stream",
          "name": "stdout",
          "text": [
            "Eigenvalues: [-0.35498754  0.46701726  1.29500983]\n"
          ]
        }
      ]
    },
    {
      "cell_type": "markdown",
      "id": "e8fd753c",
      "metadata": {
        "id": "e8fd753c"
      },
      "source": [
        "## <a name='io'></a>1️⃣3️⃣ File I/O (`npy`, `npz`, `txt`)"
      ]
    },
    {
      "cell_type": "code",
      "execution_count": null,
      "id": "bd6dc026",
      "metadata": {
        "id": "bd6dc026",
        "colab": {
          "base_uri": "https://localhost:8080/"
        },
        "outputId": "2365cb25-7343-4e54-bad7-f0cc530c32d1"
      },
      "outputs": [
        {
          "output_type": "stream",
          "name": "stdout",
          "text": [
            "loaded equals A? True\n"
          ]
        }
      ],
      "source": [
        "import numpy as np\n",
        "np.save('array.npy', A)\n",
        "loaded = np.load('array.npy')\n",
        "print('loaded equals A?', np.allclose(loaded, A))\n",
        "np.savez('multi_arrays.npz', A=A, b=b)\n"
      ]
    },
    {
      "cell_type": "code",
      "execution_count": null,
      "id": "d9552893",
      "metadata": {
        "id": "d9552893"
      },
      "outputs": [],
      "source": [
        "# 🖊️ TODO: Use `np.savetxt` to write `data` (from stats section) to CSV then reload with `np.loadtxt`.\n"
      ]
    },
    {
      "cell_type": "code",
      "source": [
        "import numpy as np\n",
        "np.savetxt('d.csv', data, delimiter=',')\n",
        "l = np.loadtxt('d.csv', delimiter=',')\n",
        "print('data equals loaded_data?', np.allclose(data, l))"
      ],
      "metadata": {
        "colab": {
          "base_uri": "https://localhost:8080/"
        },
        "id": "NwGO0KMSIJkE",
        "outputId": "5973671b-dc4c-44ce-a0a9-c275a36f9d71"
      },
      "id": "NwGO0KMSIJkE",
      "execution_count": null,
      "outputs": [
        {
          "output_type": "stream",
          "name": "stdout",
          "text": [
            "data equals loaded_data? True\n"
          ]
        }
      ]
    },
    {
      "cell_type": "markdown",
      "id": "f24f33e3",
      "metadata": {
        "id": "f24f33e3"
      },
      "source": [
        "## <a name='datetime'></a>1️⃣4️⃣ Datetime64 & Timedelta64"
      ]
    },
    {
      "cell_type": "code",
      "execution_count": 32,
      "id": "3ce7b543",
      "metadata": {
        "id": "3ce7b543",
        "colab": {
          "base_uri": "https://localhost:8080/"
        },
        "outputId": "ac760daf-607b-482a-db7e-376eef5b12ab"
      },
      "outputs": [
        {
          "output_type": "stream",
          "name": "stdout",
          "text": [
            "['2023-01-01' '2023-01-02' '2023-01-03' '2023-01-04' '2023-01-05'] 1 days\n"
          ]
        }
      ],
      "source": [
        "dates = np.arange('2023-01', '2023-04', dtype='datetime64[D]')\n",
        "delta = dates[1:] - dates[:-1]\n",
        "print(dates[:5], delta[0])\n"
      ]
    },
    {
      "cell_type": "code",
      "execution_count": null,
      "id": "e493d6f8",
      "metadata": {
        "id": "e493d6f8"
      },
      "outputs": [],
      "source": [
        "# 🖊️ TODO: find how many Mondays appear in `dates` array.\n"
      ]
    },
    {
      "cell_type": "code",
      "source": [
        "import numpy as np\n",
        "\n",
        "m=np.sum(dates.astype('datetime64[D]').astype(int)%7==0)\n",
        "print(\"Number of Mondays in 'dates' array:\",m)"
      ],
      "metadata": {
        "colab": {
          "base_uri": "https://localhost:8080/"
        },
        "id": "hlmauHCZ2X0a",
        "outputId": "51a3ef8c-27d8-4bff-f2ae-cc225d271f91"
      },
      "id": "hlmauHCZ2X0a",
      "execution_count": 33,
      "outputs": [
        {
          "output_type": "stream",
          "name": "stdout",
          "text": [
            "Number of Mondays in 'dates' array: 13\n"
          ]
        }
      ]
    },
    {
      "cell_type": "markdown",
      "id": "636116b9",
      "metadata": {
        "id": "636116b9"
      },
      "source": [
        "## <a name='mask'></a>1️⃣5️⃣ Masked Arrays & NaNs"
      ]
    },
    {
      "cell_type": "code",
      "execution_count": 34,
      "id": "ec30b3ee",
      "metadata": {
        "id": "ec30b3ee",
        "colab": {
          "base_uri": "https://localhost:8080/"
        },
        "outputId": "b89babd1-9157-4849-a894-54e906fc95db"
      },
      "outputs": [
        {
          "output_type": "stream",
          "name": "stdout",
          "text": [
            "2.3333333333333335\n"
          ]
        }
      ],
      "source": [
        "arr = np.array([1, 2, np.nan, 4, np.nan])\n",
        "masked = np.ma.masked_invalid(arr)\n",
        "print(masked.mean())\n"
      ]
    },
    {
      "cell_type": "code",
      "execution_count": null,
      "id": "1ead3a9c",
      "metadata": {
        "id": "1ead3a9c"
      },
      "outputs": [],
      "source": [
        "# 🖊️ TODO: replace NaNs with column means in a 2‑D array containing NaNs.\n"
      ]
    },
    {
      "cell_type": "code",
      "source": [
        "import numpy as np\n",
        "a=np.array([[1,2,np.nan,4],[5,np.nan,7,8],[9,10,11,np.nan],[13,14,15,16]])\n",
        "print(\"Original array:\\n\",a)\n",
        "m=np.nanmean(a,axis=0)\n",
        "for i in range(a.shape[1]):\n",
        "  n=np.isnan(a[:,i])\n",
        "  a[n,i]=m[i]\n",
        "print(\"\\nArray with NaNs replaced by column means:\\n\",a)"
      ],
      "metadata": {
        "colab": {
          "base_uri": "https://localhost:8080/"
        },
        "id": "ZsxXkyxU2658",
        "outputId": "e0567287-fa46-4b17-946b-aa8c24f3c771"
      },
      "id": "ZsxXkyxU2658",
      "execution_count": 35,
      "outputs": [
        {
          "output_type": "stream",
          "name": "stdout",
          "text": [
            "Original array:\n",
            " [[ 1.  2. nan  4.]\n",
            " [ 5. nan  7.  8.]\n",
            " [ 9. 10. 11. nan]\n",
            " [13. 14. 15. 16.]]\n",
            "\n",
            "Array with NaNs replaced by column means:\n",
            " [[ 1.          2.         11.          4.        ]\n",
            " [ 5.          8.66666667  7.          8.        ]\n",
            " [ 9.         10.         11.          9.33333333]\n",
            " [13.         14.         15.         16.        ]]\n"
          ]
        }
      ]
    },
    {
      "cell_type": "markdown",
      "id": "509e6104",
      "metadata": {
        "id": "509e6104"
      },
      "source": [
        "## <a name='project'></a>1️⃣6️⃣ Mini‑Project: Fitness Data Analysis"
      ]
    },
    {
      "cell_type": "code",
      "source": [
        "from google.colab import drive\n",
        "drive.mount('/content/drive')"
      ],
      "metadata": {
        "colab": {
          "base_uri": "https://localhost:8080/"
        },
        "id": "GRnbyhDL7Jzh",
        "outputId": "30bacafb-76de-4add-ec0c-fd901ba8b630"
      },
      "id": "GRnbyhDL7Jzh",
      "execution_count": 36,
      "outputs": [
        {
          "output_type": "stream",
          "name": "stdout",
          "text": [
            "Drive already mounted at /content/drive; to attempt to forcibly remount, call drive.mount(\"/content/drive\", force_remount=True).\n"
          ]
        }
      ]
    },
    {
      "cell_type": "markdown",
      "id": "d867d3a6",
      "metadata": {
        "id": "d867d3a6"
      },
      "source": [
        "Load `fitness.txt` (tab‑separated) then follow prompts."
      ]
    },
    {
      "cell_type": "code",
      "execution_count": 37,
      "id": "593e50db",
      "metadata": {
        "id": "593e50db",
        "colab": {
          "base_uri": "https://localhost:8080/"
        },
        "outputId": "1fa2c9b1-e8f2-4948-8d46-0d5c1295b6d7"
      },
      "outputs": [
        {
          "output_type": "stream",
          "name": "stdout",
          "text": [
            "columns: ('date________step_count________mood________calories_burned________hours_of_sleep________bool_of_active________weight_kg',) rows: 96\n"
          ]
        }
      ],
      "source": [
        "import numpy as np\n",
        "fitness = np.genfromtxt('/content/drive/My Drive/fitness.txt', delimiter='\\t', dtype=None, encoding=None, names=True)\n",
        "print('columns:', fitness.dtype.names, 'rows:', len(fitness))"
      ]
    },
    {
      "cell_type": "code",
      "execution_count": null,
      "id": "32e514d2",
      "metadata": {
        "id": "32e514d2"
      },
      "outputs": [],
      "source": [
        "# 🖊️ TODO: Monthly step count, sleep vs mood correlation, weekly summary, etc.\n"
      ]
    },
    {
      "cell_type": "code",
      "source": [
        "import numpy as np\n",
        "import pandas as pd\n",
        "import matplotlib.pyplot as plt\n",
        "\n",
        "df = pd.read_csv('/content/drive/My Drive/fitness.txt', delimiter='\\s+', comment='#', skipinitialspace=True)\n",
        "df.columns = ['date', 'step_count', 'mood', 'calories_burned', 'hours_of_sleep', 'bool_of_active', 'weight_kg']\n",
        "df['date'] = pd.to_datetime(df['date'], format='%d-%m-%Y')\n",
        "\n",
        "print('columns:', list(df.columns), 'rows:', len(df))\n",
        "print(\"\\nFirst few rows:\")\n",
        "print(df.head())\n",
        "\n",
        "df['month'] = df['date'].dt.to_period('M')\n",
        "monthly_steps = df.groupby('month')['step_count'].sum()\n",
        "print(\"\\nMonthly Step Count:\")\n",
        "print(monthly_steps)\n",
        "best_month = monthly_steps.idxmax()\n",
        "worst_month = monthly_steps.idxmin()\n",
        "print(f\"Best month: {best_month} ({monthly_steps.max():,} steps)\")\n",
        "print(f\"Worst month: {worst_month} ({monthly_steps.min():,} steps)\")\n",
        "\n",
        "plt.figure(figsize=(10, 4))\n",
        "monthly_steps.plot(kind='bar')\n",
        "plt.title('Monthly Step Count')\n",
        "plt.xlabel('Month')\n",
        "plt.ylabel('Total Steps')\n",
        "plt.xticks(rotation=45)\n",
        "plt.tight_layout()\n",
        "plt.show()\n",
        "\n",
        "correlation = df['hours_of_sleep'].corr(df['mood'])\n",
        "print(f\"\\nSleep vs Mood Correlation: {correlation:.3f}\")\n",
        "\n",
        "plt.figure(figsize=(8, 5))\n",
        "plt.scatter(df['hours_of_sleep'], df['mood'], alpha=0.6)\n",
        "plt.xlabel('Hours of Sleep')\n",
        "plt.ylabel('Mood')\n",
        "plt.title(f'Sleep vs Mood (Correlation: {correlation:.3f})')\n",
        "z = np.polyfit(df['hours_of_sleep'], df['mood'], 1)\n",
        "p = np.poly1d(z)\n",
        "plt.plot(df['hours_of_sleep'], p(df['hours_of_sleep']), \"r--\", alpha=0.8)\n",
        "plt.tight_layout()\n",
        "plt.show()\n",
        "\n",
        "df['week'] = df['date'].dt.isocalendar().week\n",
        "df['year'] = df['date'].dt.isocalendar().year\n",
        "key_metrics = ['step_count', 'mood', 'calories_burned', 'hours_of_sleep']\n",
        "weekly_summary = df.groupby(['year', 'week'])[key_metrics].mean()\n",
        "print(\"\\nRecent Weekly Summary:\")\n",
        "print(weekly_summary.tail(3))\n",
        "\n",
        "fig, axes = plt.subplots(2, 2, figsize=(12, 8))\n",
        "axes = axes.flatten()\n",
        "for i, metric in enumerate(key_metrics):\n",
        "    weekly_data = df.groupby(['year', 'week'])[metric].mean()\n",
        "    axes[i].plot(range(len(weekly_data)), weekly_data.values, marker='o')\n",
        "    axes[i].set_title(f'Weekly Average {metric}')\n",
        "    axes[i].set_xlabel('Weeks')\n",
        "    axes[i].set_ylabel(metric)\n",
        "    axes[i].grid(True, alpha=0.3)\n",
        "plt.tight_layout()\n",
        "plt.show()\n",
        "\n",
        "print(f\"\\nAverage sleep: {df['hours_of_sleep'].mean():.2f} hours\")\n",
        "print(f\"Average mood: {df['mood'].mean():.2f}\")\n",
        "print(f\"Average steps: {df['step_count'].mean():.0f}\")\n",
        "active_days = df[df['bool_of_active'] > 0]\n",
        "print(f\"Active days: {len(active_days)} ({len(active_days)/len(df)*100:.1f}%)\")\n",
        "print(f\"Weight change: {df['weight_kg'].iloc[-1] - df['weight_kg'].iloc[0]:.1f} kg\")"
      ],
      "metadata": {
        "colab": {
          "base_uri": "https://localhost:8080/",
          "height": 1000
        },
        "id": "VcBAybuDYjsa",
        "outputId": "75b08536-87f0-4b2b-c273-d38fb6ddfcf8"
      },
      "id": "VcBAybuDYjsa",
      "execution_count": 42,
      "outputs": [
        {
          "output_type": "stream",
          "name": "stdout",
          "text": [
            "columns: ['date', 'step_count', 'mood', 'calories_burned', 'hours_of_sleep', 'bool_of_active', 'weight_kg'] rows: 95\n",
            "\n",
            "First few rows:\n",
            "        date  step_count  mood  calories_burned  hours_of_sleep  \\\n",
            "0 2017-10-07        6041   100              197               8   \n",
            "1 2017-10-08          25   100                0               5   \n",
            "2 2017-10-09        5461   100              174               4   \n",
            "3 2017-10-10        6915   200              223               5   \n",
            "4 2017-10-11        4545   100              149               6   \n",
            "\n",
            "   bool_of_active  weight_kg  \n",
            "0               0         66  \n",
            "1               0         66  \n",
            "2               0         66  \n",
            "3             500         66  \n",
            "4               0         66  \n",
            "\n",
            "Monthly Step Count:\n",
            "month\n",
            "2017-10     73587\n",
            "2017-11    103071\n",
            "2017-12     89565\n",
            "2018-01     10163\n",
            "Freq: M, Name: step_count, dtype: int64\n",
            "Best month: 2017-11 (103,071 steps)\n",
            "Worst month: 2018-01 (10,163 steps)\n"
          ]
        },
        {
          "output_type": "display_data",
          "data": {
            "text/plain": [
              "<Figure size 1000x400 with 1 Axes>"
            ],
            "image/png": "[encoded data removed]"
          },
          "metadata": {}
        },
        {
          "output_type": "stream",
          "name": "stdout",
          "text": [
            "\n",
            "Sleep vs Mood Correlation: 0.210\n"
          ]
        },
        {
          "output_type": "display_data",
          "data": {
            "text/plain": [
              "<Figure size 800x500 with 1 Axes>"
            ],
            "image/png": "[encoded data removed]"
          },
          "metadata": {}
        },
        {
          "output_type": "stream",
          "name": "stdout",
          "text": [
            "\n",
            "Recent Weekly Summary:\n",
            "            step_count        mood  calories_burned  hours_of_sleep\n",
            "year week                                                          \n",
            "2017 52    2688.285714  185.714286        87.857143        4.142857\n",
            "2018 1      833.285714  171.428571        24.000000        3.714286\n",
            "     2     2165.000000  250.000000         0.000000        5.000000\n"
          ]
        },
        {
          "output_type": "display_data",
          "data": {
            "text/plain": [
              "<Figure size 1200x800 with 4 Axes>"
            ],
            "image/png": "[encoded data removed]"
          },
          "metadata": {}
        },
        {
          "output_type": "stream",
          "name": "stdout",
          "text": [
            "\n",
            "Average sleep: 5.22 hours\n",
            "Average mood: 211.58\n",
            "Average steps: 2909\n",
            "Active days: 42 (44.2%)\n",
            "Weight change: -2.0 kg\n"
          ]
        }
      ]
    },
    {
      "cell_type": "markdown",
      "id": "e7c0e1dc",
      "metadata": {
        "id": "e7c0e1dc"
      },
      "source": [
        "## <a name='conclusion'></a>1️⃣7️⃣ Conclusion & Further Practice\n",
        "Congrats on covering **all core NumPy topics** from your five lecture notebooks!\n",
        "\n",
        "*Keep experimenting, read the official docs, and try converting your NumPy pipelines into Pandas or JAX for more fun.*"
      ]
    }
  ],
  "metadata": {
    "colab": {
      "provenance": []
    },
    "language_info": {
      "name": "python"
    },
    "kernelspec": {
      "name": "python3",
      "display_name": "Python 3"
    }
  },
  "nbformat": 4,
  "nbformat_minor": 5
}